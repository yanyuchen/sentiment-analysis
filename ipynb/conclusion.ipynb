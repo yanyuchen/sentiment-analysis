{
 "cells": [
  {
   "cell_type": "markdown",
   "metadata": {},
   "source": [
    "# Conclusion\n",
    "\n",
    "Our study aimed to explore the sentiment of users towards various locations by analyzing their reviews on three popular review sites, namely TripAdvisor, Google Maps, and Yelp. To achieve this, we employed a combination of web scraping and API methods to collect the data, and then utilized natural language processing (NLP) techniques to standardize the reviews and find their frequency.\n",
    "\n",
    "We began by collecting reviews of different locations from the three review sites mentioned above. This allowed us to obtain a diverse dataset containing a wide range of reviews, including positive and negative ones. We then used NLP techniques to preprocess the data and extract useful information from the reviews.\n",
    "\n",
    "One of the first things we observed during our analysis was that certain words were frequently used across all rating levels. These included words like \"place,\" \"great,\" \"museum,\" and \"San Francisco.\" This indicates that users tend to describe the general characteristics of a location in their reviews, regardless of whether they had a positive or negative experience.\n",
    "\n",
    "However, we also noticed that reviews with lower ratings tended to mention negative aspects related to visiting with children. This suggests that some locations may not be suitable for families with kids or may not offer sufficient facilities for them. This information can be valuable for businesses in the tourism industry to improve their services and cater to the needs of families.\n",
    "\n",
    "To perform sentiment analysis on our dataset, we compared the performance of various classifiers, including NLTK's VADER and `NaiveBayesClassifier`, as well as scikit-learn's `BernoulliNB`, `ComplementNB`, `MultinomialNB`, `DecisionTreeClassifier`, `LogisticRegression`, and `RandomForestClassifier`. We evaluated the accuracy, compatibility with other classifiers, and time efficiency of each classifier to determine the best option for our dataset.\n",
    "\n",
    "Our results showed that all scikit-learn classifiers performed similarly in terms of accuracy. However, `DecisionTreeClassifier` was the best option overall due to its compatibility with other classifiers and time efficiency. This classifier is easy to interpret and can be useful for predicting the sentiment of reviews in real-time applications.\n",
    "\n",
    "Overall, our study highlights the importance of analyzing reviews from multiple sources and using NLP techniques for sentiment analysis. This can provide valuable insights to businesses in the tourism industry, helping them to gain a better understanding of their customers and make more informed decisions. In conclusion, our findings can be used to improve services and cater to the needs of customers in the tourism industry."
   ]
  },
  {
   "cell_type": "markdown",
   "metadata": {},
   "source": [
    "## Appendix\n",
    "We have a few explanatory data analysis of other variables that may be good to know but not directly related to our analysis. We left them in the appendix."
   ]
  },
  {
   "cell_type": "code",
   "execution_count": 5,
   "metadata": {},
   "outputs": [
    {
     "ename": "ModuleNotFoundError",
     "evalue": "No module named 'plotly'",
     "output_type": "error",
     "traceback": [
      "\u001b[0;31m---------------------------------------------------------------------------\u001b[0m",
      "\u001b[0;31mModuleNotFoundError\u001b[0m                       Traceback (most recent call last)",
      "Cell \u001b[0;32mIn[5], line 3\u001b[0m\n\u001b[1;32m      1\u001b[0m \u001b[38;5;28;01mimport\u001b[39;00m \u001b[38;5;21;01mpandas\u001b[39;00m \u001b[38;5;28;01mas\u001b[39;00m \u001b[38;5;21;01mpd\u001b[39;00m\n\u001b[1;32m      2\u001b[0m \u001b[38;5;28;01mimport\u001b[39;00m \u001b[38;5;21;01mmatplotlib\u001b[39;00m\u001b[38;5;21;01m.\u001b[39;00m\u001b[38;5;21;01mpyplot\u001b[39;00m \u001b[38;5;28;01mas\u001b[39;00m \u001b[38;5;21;01mplt\u001b[39;00m\n\u001b[0;32m----> 3\u001b[0m \u001b[38;5;28;01mimport\u001b[39;00m \u001b[38;5;21;01mplotly\u001b[39;00m\u001b[38;5;21;01m.\u001b[39;00m\u001b[38;5;21;01mgraph_objects\u001b[39;00m \u001b[38;5;28;01mas\u001b[39;00m \u001b[38;5;21;01mgo\u001b[39;00m\n",
      "\u001b[0;31mModuleNotFoundError\u001b[0m: No module named 'plotly'"
     ]
    }
   ],
   "source": [
    "import pandas as pd\n",
    "import matplotlib.pyplot as plt\n",
    "import plotly.graph_objects as go"
   ]
  },
  {
   "cell_type": "code",
   "execution_count": 2,
   "metadata": {},
   "outputs": [
    {
     "name": "stdout",
     "output_type": "stream",
     "text": [
      "<class 'pandas.core.frame.DataFrame'>\n",
      "RangeIndex: 10011 entries, 0 to 10010\n",
      "Data columns (total 6 columns):\n",
      " #   Column       Non-Null Count  Dtype  \n",
      "---  ------       --------------  -----  \n",
      " 0   platform     10011 non-null  object \n",
      " 1   attraction   10011 non-null  object \n",
      " 2   review       9927 non-null   object \n",
      " 3   rating       9365 non-null   float64\n",
      " 4   datecolumn   6947 non-null   object \n",
      " 5   coordinates  150 non-null    object \n",
      "dtypes: float64(1), object(5)\n",
      "memory usage: 469.4+ KB\n"
     ]
    }
   ],
   "source": [
    "url = 'https://raw.githubusercontent.com/yanyuchen/sentiment-analysis/main/data/all_reviews.csv'\n",
    "review_all = pd.read_csv(url)\n",
    "review_all.info()"
   ]
  },
  {
   "cell_type": "markdown",
   "metadata": {},
   "source": [
    "We firstly examined the data `review_all`, and it shows that there are some null values in the *review* column, and the *datecolumn* are not in the correct data type. We therefore converted the *datecolumn* and dropped empty rows based on *reviews*, and then drop duplicates from the data."
   ]
  },
  {
   "cell_type": "code",
   "execution_count": 3,
   "metadata": {},
   "outputs": [
    {
     "name": "stdout",
     "output_type": "stream",
     "text": [
      "<class 'pandas.core.frame.DataFrame'>\n",
      "Int64Index: 9872 entries, 0 to 10010\n",
      "Data columns (total 6 columns):\n",
      " #   Column       Non-Null Count  Dtype         \n",
      "---  ------       --------------  -----         \n",
      " 0   platform     9872 non-null   object        \n",
      " 1   attraction   9872 non-null   object        \n",
      " 2   review       9872 non-null   object        \n",
      " 3   rating       9228 non-null   float64       \n",
      " 4   datecolumn   6940 non-null   datetime64[ns]\n",
      " 5   coordinates  150 non-null    object        \n",
      "dtypes: datetime64[ns](1), float64(1), object(4)\n",
      "memory usage: 539.9+ KB\n"
     ]
    }
   ],
   "source": [
    "# Convert the 'date' column to datetime format\n",
    "review_all['datecolumn'] = pd.to_datetime(review_all['datecolumn'], format='%b, %Y')\n",
    "\n",
    "# Drop rows with null values in the 'review' column\n",
    "review_all = review_all.dropna(subset=['review'])\n",
    "\n",
    "# Drop duplicate\n",
    "review_all = review_all.drop_duplicates()\n",
    "review_all.info()"
   ]
  },
  {
   "cell_type": "markdown",
   "metadata": {},
   "source": [
    "And then we examined the numbers of platform, attraction and reviews."
   ]
  },
  {
   "cell_type": "code",
   "execution_count": 4,
   "metadata": {},
   "outputs": [
    {
     "ename": "NameError",
     "evalue": "name 'go' is not defined",
     "output_type": "error",
     "traceback": [
      "\u001b[0;31m---------------------------------------------------------------------------\u001b[0m",
      "\u001b[0;31mNameError\u001b[0m                                 Traceback (most recent call last)",
      "Cell \u001b[0;32mIn[4], line 5\u001b[0m\n\u001b[1;32m      2\u001b[0m platforms \u001b[38;5;241m=\u001b[39m review_all[\u001b[38;5;124m'\u001b[39m\u001b[38;5;124mplatform\u001b[39m\u001b[38;5;124m'\u001b[39m]\u001b[38;5;241m.\u001b[39munique()\n\u001b[1;32m      3\u001b[0m places \u001b[38;5;241m=\u001b[39m review_all[\u001b[38;5;124m'\u001b[39m\u001b[38;5;124mattraction\u001b[39m\u001b[38;5;124m'\u001b[39m]\u001b[38;5;241m.\u001b[39munique()\n\u001b[0;32m----> 5\u001b[0m fig \u001b[38;5;241m=\u001b[39m \u001b[43mgo\u001b[49m\u001b[38;5;241m.\u001b[39mFigure()\n\u001b[1;32m      6\u001b[0m fig\u001b[38;5;241m.\u001b[39madd_trace(go\u001b[38;5;241m.\u001b[39mIndicator(\n\u001b[1;32m      7\u001b[0m     mode \u001b[38;5;241m=\u001b[39m \u001b[38;5;124m\"\u001b[39m\u001b[38;5;124mnumber\u001b[39m\u001b[38;5;124m\"\u001b[39m,\n\u001b[1;32m      8\u001b[0m     value \u001b[38;5;241m=\u001b[39m \u001b[38;5;28mlen\u001b[39m(platforms),\n\u001b[0;32m   (...)\u001b[0m\n\u001b[1;32m     11\u001b[0m     domain \u001b[38;5;241m=\u001b[39m {\u001b[38;5;124m'\u001b[39m\u001b[38;5;124mrow\u001b[39m\u001b[38;5;124m'\u001b[39m: \u001b[38;5;241m0\u001b[39m, \u001b[38;5;124m'\u001b[39m\u001b[38;5;124mcolumn\u001b[39m\u001b[38;5;124m'\u001b[39m: \u001b[38;5;241m0\u001b[39m}\n\u001b[1;32m     12\u001b[0m ))\n\u001b[1;32m     13\u001b[0m fig\u001b[38;5;241m.\u001b[39madd_trace(go\u001b[38;5;241m.\u001b[39mIndicator(\n\u001b[1;32m     14\u001b[0m     mode \u001b[38;5;241m=\u001b[39m \u001b[38;5;124m\"\u001b[39m\u001b[38;5;124mnumber\u001b[39m\u001b[38;5;124m\"\u001b[39m,\n\u001b[1;32m     15\u001b[0m     value \u001b[38;5;241m=\u001b[39m \u001b[38;5;28mlen\u001b[39m(places),\n\u001b[0;32m   (...)\u001b[0m\n\u001b[1;32m     18\u001b[0m     domain \u001b[38;5;241m=\u001b[39m {\u001b[38;5;124m'\u001b[39m\u001b[38;5;124mrow\u001b[39m\u001b[38;5;124m'\u001b[39m: \u001b[38;5;241m0\u001b[39m, \u001b[38;5;124m'\u001b[39m\u001b[38;5;124mcolumn\u001b[39m\u001b[38;5;124m'\u001b[39m: \u001b[38;5;241m1\u001b[39m}\n\u001b[1;32m     19\u001b[0m ))\n",
      "\u001b[0;31mNameError\u001b[0m: name 'go' is not defined"
     ]
    }
   ],
   "source": [
    "# Examined the numbers of platform, attraction and reviews\n",
    "platforms = review_all['platform'].unique()\n",
    "places = review_all['attraction'].unique()\n",
    "\n",
    "fig = go.Figure()\n",
    "fig.add_trace(go.Indicator(\n",
    "    mode = \"number\",\n",
    "    value = len(platforms),\n",
    "    title = {'text': \"Platforms\",'font': {'color': 'black','size':20}},\n",
    "    number={'font':{'color': 'black','size':50}},\n",
    "    domain = {'row': 0, 'column': 0}\n",
    "))\n",
    "fig.add_trace(go.Indicator(\n",
    "    mode = \"number\",\n",
    "    value = len(places),\n",
    "    title = {'text': \"Attractions\",'font': {'color': 'brown','size':20}},\n",
    "    number={'font':{'color': 'brown','size':50}},\n",
    "    domain = {'row': 0, 'column': 1}\n",
    "))\n",
    "fig.add_trace(go.Indicator(\n",
    "    mode = \"number\",\n",
    "    value = len(review_all['review']),\n",
    "    title = {'text': \"Reviews\",'font': {'color': 'green','size':20}},\n",
    "    number={'font':{'color': 'green','size':50}},\n",
    "    domain = {'row': 0, 'column': 2}\n",
    "))\n",
    "fig.update_layout(\n",
    "    grid = {'rows': 1, 'columns': 3, 'pattern': \"independent\"})\n",
    "fig.show()"
   ]
  },
  {
   "cell_type": "markdown",
   "metadata": {},
   "source": [
    "### Platform-wise Analysis\n",
    "We analyzed the distribution of where reviews are coming from, and then analyze what attractions are in obtained in our data and their shares to each platform."
   ]
  },
  {
   "cell_type": "code",
   "execution_count": null,
   "metadata": {},
   "outputs": [],
   "source": [
    "# Create pie chart\n",
    "fig1 = px.pie(review_all, names='platform')\n",
    "fig1.update_layout(title='Pie Charts of Platform')\n",
    "fig1.show()"
   ]
  },
  {
   "cell_type": "markdown",
   "metadata": {},
   "source": [
    "It shows that most of our reviews are coming from TripAdvisor and only a little percent are from Yelp. This happens because Yelp API has limitation of only 3 reviews available for each location, while TripAdvisor and Google don't have."
   ]
  },
  {
   "cell_type": "code",
   "execution_count": null,
   "metadata": {},
   "outputs": [],
   "source": [
    "# Create a function to make pie charts with specific platform\n",
    "def platform_piechart(platform, column):\n",
    "    t_place_count = review_all.loc[review_all['platform']==platform][column].value_counts().sort_values()\n",
    "    fig = px.pie(t_place_count, \n",
    "             values=column, \n",
    "             names=t_place_count.index,\n",
    "             title = f'{column}s from {platform} ')\n",
    "    fig.show()\n",
    "\n",
    "# Print three piechart with respect to piechart\n",
    "for platform in platforms:\n",
    "    platform_piechart(platform,'attraction')"
   ]
  },
  {
   "cell_type": "markdown",
   "metadata": {},
   "source": [
    "Above plots shows what places are included in the data. We can see most of the places got from yelp are restaurants rather than attractions."
   ]
  },
  {
   "cell_type": "markdown",
   "metadata": {},
   "source": [
    "### Attraction-wise Analysis\n",
    "Here we focus on the number of reviews we obtained for different location accross platform."
   ]
  },
  {
   "cell_type": "code",
   "execution_count": null,
   "metadata": {},
   "outputs": [],
   "source": [
    "# create bar plot of reviews counts for different places\n",
    "attraction_count = review_all['attraction'].value_counts()\n",
    "fig = px.bar(attraction_count.head(10))\n",
    "fig.update_xaxes(title='Place Name')\n",
    "fig.update_yaxes(title='# of Reviews')\n",
    "fig.update_layout(title='# of Reviews for Places (Top 10)')\n",
    "fig.show()"
   ]
  },
  {
   "cell_type": "markdown",
   "metadata": {},
   "source": [
    "### Date-wise Analysis   \n",
    "We first converted *datecolumn* to two columns month and year, and we analyze how many reviews are made in the last year from Mar 2022 to Feb 2023. We didn't analyze every year because covid hitted in between, and it may not represent to overall trend."
   ]
  },
  {
   "cell_type": "code",
   "execution_count": null,
   "metadata": {},
   "outputs": [],
   "source": [
    "# Convert datecolumns to month and year\n",
    "review_all['month'] = review_all['datecolumn'].dt.month\n",
    "review_all['year'] = review_all['datecolumn'].dt.year\n",
    "\n",
    "# Create barplot for # reviews in a year\n",
    "year_count = review_all['year'].value_counts()\n",
    "fig = px.bar(year_count)\n",
    "fig.update_xaxes(title='Year')\n",
    "fig.update_yaxes(title='# of Reviews')\n",
    "fig.update_layout(title='# of Reviews by Year')\n",
    "fig.show()"
   ]
  },
  {
   "cell_type": "code",
   "execution_count": null,
   "metadata": {},
   "outputs": [],
   "source": [
    "# Create bar plot for reviews between mar 2022 to feb 2023\n",
    "year2022 = review_all.loc[(review_all['datecolumn']>'2022-2-28') & (review_all['datecolumn']<'2023-3-1')]\n",
    "month2022_count = year2022['month'].value_counts()\n",
    "fig = px.bar(month2022_count)\n",
    "fig.update_xaxes(title='Month')\n",
    "fig.update_yaxes(title='# of Reviews')\n",
    "fig.update_layout(title='# of Reviews by Month from Mar 2022 to Feb 2023')\n",
    "fig.show()"
   ]
  },
  {
   "cell_type": "markdown",
   "metadata": {},
   "source": [
    "The result shows that lots of those reviews are from 2019 and 2022. Since we want to based on only the past year, we plot the bar plot for month from Jan to Dec. The results shows that there are more proportion of reviews are left in between Jun-Sep 2022,\n",
    "One explanation might be that its summer vacation at that period of time, lots of family might travel with their children. Another explanation could be related to the decline in covid worldwide."
   ]
  }
 ],
 "metadata": {
  "kernelspec": {
   "display_name": "Python 3 (ipykernel)",
   "language": "python",
   "name": "python3"
  },
  "language_info": {
   "codemirror_mode": {
    "name": "ipython",
    "version": 3
   },
   "file_extension": ".py",
   "mimetype": "text/x-python",
   "name": "python",
   "nbconvert_exporter": "python",
   "pygments_lexer": "ipython3",
   "version": "3.10.8"
  }
 },
 "nbformat": 4,
 "nbformat_minor": 2
}
