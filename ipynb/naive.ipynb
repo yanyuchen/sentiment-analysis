{
 "cells": [
  {
   "cell_type": "markdown",
   "metadata": {
    "id": "HO4juaGVUYuA"
   },
   "source": [
    "# Using NLTK’s Pre-Trained Sentiment Analyzer\n",
    "\n",
    "Natural Language Toolkit (NLTK) is a leading platform for building Python programs to work with human language data. It already has a built-in, pretrained sentiment analyzer called VADER (Valence Aware Dictionary and sEntiment Reasoner).\n",
    "\n",
    "Since VADER is pretrained, we can get primitive results more quickly than with many other analyzers. However, VADER is best suited for language used in social media, like short sentences with some slang and abbreviations. It’s less accurate when rating longer, structured sentences, but it’s often a good launching point. Let's see how VADER perforems in our case."
   ]
  },
  {
   "cell_type": "markdown",
   "metadata": {
    "id": "uQD90daPVtFk"
   },
   "source": [
    "## Loading Libraries and Data"
   ]
  },
  {
   "cell_type": "code",
   "execution_count": null,
   "metadata": {
    "colab": {
     "base_uri": "https://localhost:8080/"
    },
    "id": "yL7dXncBLjhL",
    "outputId": "f7bdf220-d147-4014-ab70-34985c81a62e"
   },
   "outputs": [
    {
     "name": "stderr",
     "output_type": "stream",
     "text": [
      "[nltk_data] Downloading package stopwords to /root/nltk_data...\n",
      "[nltk_data]   Package stopwords is already up-to-date!\n",
      "[nltk_data] Downloading package vader_lexicon to /root/nltk_data...\n",
      "[nltk_data]   Package vader_lexicon is already up-to-date!\n",
      "[nltk_data] Downloading package punkt to /root/nltk_data...\n",
      "[nltk_data]   Package punkt is already up-to-date!\n"
     ]
    }
   ],
   "source": [
    "import pandas as pd\n",
    "import matplotlib.pyplot as plt\n",
    "import nltk\n",
    "from nltk.sentiment import SentimentIntensityAnalyzer\n",
    "from random import shuffle\n",
    "\n",
    "nltk.download([\"stopwords\", \"vader_lexicon\", \"punkt\"])"
   ]
  },
  {
   "cell_type": "code",
   "execution_count": null,
   "metadata": {
    "colab": {
     "base_uri": "https://localhost:8080/",
     "height": 204
    },
    "id": "sISRCeR7MFNi",
    "outputId": "df33047d-f7f3-4edf-fe71-3708590d60b3"
   },
   "outputs": [
    {
     "data": {
      "text/html": [
       "\n",
       "  <div id=\"df-e50d5d0b-fc34-4d94-8838-7123ace52571\">\n",
       "    <div class=\"colab-df-container\">\n",
       "      <div>\n",
       "<style scoped>\n",
       "    .dataframe tbody tr th:only-of-type {\n",
       "        vertical-align: middle;\n",
       "    }\n",
       "\n",
       "    .dataframe tbody tr th {\n",
       "        vertical-align: top;\n",
       "    }\n",
       "\n",
       "    .dataframe thead th {\n",
       "        text-align: right;\n",
       "    }\n",
       "</style>\n",
       "<table border=\"1\" class=\"dataframe\">\n",
       "  <thead>\n",
       "    <tr style=\"text-align: right;\">\n",
       "      <th></th>\n",
       "      <th>review</th>\n",
       "      <th>rating</th>\n",
       "    </tr>\n",
       "  </thead>\n",
       "  <tbody>\n",
       "    <tr>\n",
       "      <th>0</th>\n",
       "      <td>My family took the tour ( BUY TICKETS IN ADVAN...</td>\n",
       "      <td>5.0</td>\n",
       "    </tr>\n",
       "    <tr>\n",
       "      <th>1</th>\n",
       "      <td>This is a must stop if you are in San Fran!!! ...</td>\n",
       "      <td>5.0</td>\n",
       "    </tr>\n",
       "    <tr>\n",
       "      <th>2</th>\n",
       "      <td>I did not expect to enjoy the tour as much as ...</td>\n",
       "      <td>5.0</td>\n",
       "    </tr>\n",
       "    <tr>\n",
       "      <th>3</th>\n",
       "      <td>San Francisco is completely unsafe. We bought ...</td>\n",
       "      <td>1.0</td>\n",
       "    </tr>\n",
       "    <tr>\n",
       "      <th>4</th>\n",
       "      <td>I had a 13-hour layover in San Francisco And I...</td>\n",
       "      <td>4.0</td>\n",
       "    </tr>\n",
       "  </tbody>\n",
       "</table>\n",
       "</div>\n",
       "      <button class=\"colab-df-convert\" onclick=\"convertToInteractive('df-e50d5d0b-fc34-4d94-8838-7123ace52571')\"\n",
       "              title=\"Convert this dataframe to an interactive table.\"\n",
       "              style=\"display:none;\">\n",
       "        \n",
       "  <svg xmlns=\"http://www.w3.org/2000/svg\" height=\"24px\"viewBox=\"0 0 24 24\"\n",
       "       width=\"24px\">\n",
       "    <path d=\"M0 0h24v24H0V0z\" fill=\"none\"/>\n",
       "    <path d=\"M18.56 5.44l.94 2.06.94-2.06 2.06-.94-2.06-.94-.94-2.06-.94 2.06-2.06.94zm-11 1L8.5 8.5l.94-2.06 2.06-.94-2.06-.94L8.5 2.5l-.94 2.06-2.06.94zm10 10l.94 2.06.94-2.06 2.06-.94-2.06-.94-.94-2.06-.94 2.06-2.06.94z\"/><path d=\"M17.41 7.96l-1.37-1.37c-.4-.4-.92-.59-1.43-.59-.52 0-1.04.2-1.43.59L10.3 9.45l-7.72 7.72c-.78.78-.78 2.05 0 2.83L4 21.41c.39.39.9.59 1.41.59.51 0 1.02-.2 1.41-.59l7.78-7.78 2.81-2.81c.8-.78.8-2.07 0-2.86zM5.41 20L4 18.59l7.72-7.72 1.47 1.35L5.41 20z\"/>\n",
       "  </svg>\n",
       "      </button>\n",
       "      \n",
       "  <style>\n",
       "    .colab-df-container {\n",
       "      display:flex;\n",
       "      flex-wrap:wrap;\n",
       "      gap: 12px;\n",
       "    }\n",
       "\n",
       "    .colab-df-convert {\n",
       "      background-color: #E8F0FE;\n",
       "      border: none;\n",
       "      border-radius: 50%;\n",
       "      cursor: pointer;\n",
       "      display: none;\n",
       "      fill: #1967D2;\n",
       "      height: 32px;\n",
       "      padding: 0 0 0 0;\n",
       "      width: 32px;\n",
       "    }\n",
       "\n",
       "    .colab-df-convert:hover {\n",
       "      background-color: #E2EBFA;\n",
       "      box-shadow: 0px 1px 2px rgba(60, 64, 67, 0.3), 0px 1px 3px 1px rgba(60, 64, 67, 0.15);\n",
       "      fill: #174EA6;\n",
       "    }\n",
       "\n",
       "    [theme=dark] .colab-df-convert {\n",
       "      background-color: #3B4455;\n",
       "      fill: #D2E3FC;\n",
       "    }\n",
       "\n",
       "    [theme=dark] .colab-df-convert:hover {\n",
       "      background-color: #434B5C;\n",
       "      box-shadow: 0px 1px 3px 1px rgba(0, 0, 0, 0.15);\n",
       "      filter: drop-shadow(0px 1px 2px rgba(0, 0, 0, 0.3));\n",
       "      fill: #FFFFFF;\n",
       "    }\n",
       "  </style>\n",
       "\n",
       "      <script>\n",
       "        const buttonEl =\n",
       "          document.querySelector('#df-e50d5d0b-fc34-4d94-8838-7123ace52571 button.colab-df-convert');\n",
       "        buttonEl.style.display =\n",
       "          google.colab.kernel.accessAllowed ? 'block' : 'none';\n",
       "\n",
       "        async function convertToInteractive(key) {\n",
       "          const element = document.querySelector('#df-e50d5d0b-fc34-4d94-8838-7123ace52571');\n",
       "          const dataTable =\n",
       "            await google.colab.kernel.invokeFunction('convertToInteractive',\n",
       "                                                     [key], {});\n",
       "          if (!dataTable) return;\n",
       "\n",
       "          const docLinkHtml = 'Like what you see? Visit the ' +\n",
       "            '<a target=\"_blank\" href=https://colab.research.google.com/notebooks/data_table.ipynb>data table notebook</a>'\n",
       "            + ' to learn more about interactive tables.';\n",
       "          element.innerHTML = '';\n",
       "          dataTable['output_type'] = 'display_data';\n",
       "          await google.colab.output.renderOutput(dataTable, element);\n",
       "          const docLink = document.createElement('div');\n",
       "          docLink.innerHTML = docLinkHtml;\n",
       "          element.appendChild(docLink);\n",
       "        }\n",
       "      </script>\n",
       "    </div>\n",
       "  </div>\n",
       "  "
      ],
      "text/plain": [
       "                                              review  rating\n",
       "0  My family took the tour ( BUY TICKETS IN ADVAN...     5.0\n",
       "1  This is a must stop if you are in San Fran!!! ...     5.0\n",
       "2  I did not expect to enjoy the tour as much as ...     5.0\n",
       "3  San Francisco is completely unsafe. We bought ...     1.0\n",
       "4  I had a 13-hour layover in San Francisco And I...     4.0"
      ]
     },
     "execution_count": 65,
     "metadata": {},
     "output_type": "execute_result"
    }
   ],
   "source": [
    "url = 'https://raw.githubusercontent.com/yanyuchen/sentiment-analysis/main/data/all_reviews.csv'\n",
    "df = pd.read_csv(url).drop(['attraction', 'datecolumn', 'coordinates'], axis = 1).dropna()\n",
    "df.head()"
   ]
  },
  {
   "cell_type": "markdown",
   "metadata": {
    "id": "UggVIUZlWLb-"
   },
   "source": [
    "## Create an Instance of the Pre-trained VADER\n",
    "\n",
    "Since the VADER has already been trained, we can test the performance on the whole data. A naive model is then classify positive/nagative based on the compound score of the VADER."
   ]
  },
  {
   "cell_type": "code",
   "execution_count": null,
   "metadata": {
    "id": "R1eOSQTUMUJz"
   },
   "outputs": [],
   "source": [
    "sia = SentimentIntensityAnalyzer()\n",
    "def is_positive(txt: str) -> bool:\n",
    "    return sia.polarity_scores(txt)[\"compound\"] > 0"
   ]
  },
  {
   "cell_type": "code",
   "execution_count": null,
   "metadata": {
    "id": "LF-wpQK5RFaT"
   },
   "outputs": [],
   "source": [
    "pred = [is_positive(txt) for txt in df.review]"
   ]
  },
  {
   "cell_type": "code",
   "execution_count": null,
   "metadata": {
    "id": "EA-D9gjPTA8B"
   },
   "outputs": [],
   "source": [
    "def accuracy(pred, act):\n",
    "  return sum(pred == act)/len(act)"
   ]
  },
  {
   "cell_type": "code",
   "execution_count": null,
   "metadata": {
    "colab": {
     "base_uri": "https://localhost:8080/"
    },
    "id": "0zXmgjyaUHBl",
    "outputId": "5fb6a053-e0c9-4823-c9b1-0d26950d4b9d"
   },
   "outputs": [
    {
     "data": {
      "text/plain": [
       "0.7284775347484107"
      ]
     },
     "execution_count": 80,
     "metadata": {},
     "output_type": "execute_result"
    }
   ],
   "source": [
    "act = df.rating > 3\n",
    "\n",
    "accuracy(act, pred)"
   ]
  },
  {
   "cell_type": "markdown",
   "metadata": {
    "id": "BAtJNoREYBoT"
   },
   "source": [
    "It turns out that this naive approach has certain ability to distinguish positive/negative reviews but does not perform well. Thus, we explore ourselves to scikit-learn classifiers with the goal of find a desirable model."
   ]
  },
  {
   "cell_type": "markdown",
   "metadata": {
    "id": "Xii7g5T7XCmI"
   },
   "source": [
    "## Deeper Insight from the VADER\n",
    "Before we move to scikit-learn classifiers, we may take a closer look at what kind of words in a review that makes the VADER classify the review positve or negative."
   ]
  },
  {
   "cell_type": "code",
   "execution_count": null,
   "metadata": {
    "id": "jNtahrMOV6ZL"
   },
   "outputs": [],
   "source": [
    "positive_review = [review for review in df.review if is_positive(review)]\n",
    "negative_review = [review for review in df.review if is_positive(review) == False]\n",
    "positive_words = [word.lower() for review in positive_review for word in review.split()]\n",
    "negative_words = [word.lower() for review in negative_review for word in review.split()]"
   ]
  },
  {
   "cell_type": "markdown",
   "metadata": {
    "id": "Pb_rdt9ieHE8"
   },
   "source": [
    "\n",
    "\n",
    "Since many words are present in both positive and negative sets, we remove the common words in the positve and negative reviews from the distribution objects."
   ]
  },
  {
   "cell_type": "code",
   "execution_count": null,
   "metadata": {
    "id": "8VlzqsFvX9yC"
   },
   "outputs": [],
   "source": [
    "positive_fd = nltk.FreqDist(positive_words)\n",
    "negative_fd = nltk.FreqDist(negative_words)\n",
    "\n",
    "common_set = set(positive_fd).intersection(negative_fd)\n",
    "\n",
    "for word in common_set:\n",
    "    del positive_fd[word]\n",
    "    del negative_fd[word]"
   ]
  },
  {
   "cell_type": "markdown",
   "metadata": {
    "id": "CnLE6pJyevAW"
   },
   "source": [
    "### Positive Words from the VADER"
   ]
  },
  {
   "cell_type": "code",
   "execution_count": null,
   "metadata": {
    "colab": {
     "base_uri": "https://localhost:8080/",
     "height": 540
    },
    "id": "ci_5UOTHZERE",
    "outputId": "425d9b38-88fa-4209-e15e-b27a3382cff4"
   },
   "outputs": [
    {
     "data": {
      "image/png": "[encoded data removed]",
      "text/plain": [
       "<Figure size 864x576 with 1 Axes>"
      ]
     },
     "metadata": {
      "needs_background": "light"
     },
     "output_type": "display_data"
    }
   ],
   "source": [
    "plt.figure(figsize=(12,8))\n",
    "positive_fd.plot(15)\n",
    "plt.show()"
   ]
  },
  {
   "cell_type": "code",
   "execution_count": null,
   "metadata": {
    "colab": {
     "base_uri": "https://localhost:8080/"
    },
    "id": "24ZyekStcmsd",
    "outputId": "6089953c-56c5-4a14-a638-f1c3d29f7a90"
   },
   "outputs": [
    {
     "data": {
      "text/plain": [
       "FreqDist({'fantastic': 143, 'perfect': 114, 'free.': 76, 'it!': 71, 'fabulous': 55, 'popular': 53, 'tasting': 49, 'grounds': 48, 'cute': 48, 'exploring': 48, ...})"
      ]
     },
     "execution_count": 115,
     "metadata": {},
     "output_type": "execute_result"
    }
   ],
   "source": [
    "positive_fd"
   ]
  },
  {
   "cell_type": "markdown",
   "metadata": {
    "id": "qb7WdQV7e_z-"
   },
   "source": [
    "From the first of few words, we see many commendatory terms. It makes sense that the VADER classifies a review into positive according to them."
   ]
  },
  {
   "cell_type": "markdown",
   "metadata": {
    "id": "YO4J8PF-e40q"
   },
   "source": [
    "### Negative Words from the VADER"
   ]
  },
  {
   "cell_type": "code",
   "execution_count": null,
   "metadata": {
    "colab": {
     "base_uri": "https://localhost:8080/",
     "height": 521
    },
    "id": "XDTELNKuasHn",
    "outputId": "72982466-514f-4820-f89c-42949e1cf432"
   },
   "outputs": [
    {
     "data": {
      "image/png": "[encoded data removed]",
      "text/plain": [
       "<Figure size 864x576 with 1 Axes>"
      ]
     },
     "metadata": {
      "needs_background": "light"
     },
     "output_type": "display_data"
    }
   ],
   "source": [
    "plt.figure(figsize=(12,8))\n",
    "negative_fd.plot(15)\n",
    "plt.show()"
   ]
  },
  {
   "cell_type": "code",
   "execution_count": null,
   "metadata": {
    "colab": {
     "base_uri": "https://localhost:8080/"
    },
    "id": "VNo_N0zNbhyz",
    "outputId": "f4769951-ca38-4736-b7c6-5ecfa0898974"
   },
   "outputs": [
    {
     "data": {
      "text/plain": [
       "FreqDist({'nicht': 36, 'cada': 24, 'pela': 24, 'ich': 22, 'nur': 21, 'sind': 20, '2006': 19, 'centro': 18, '2010': 17, 'dove': 16, ...})"
      ]
     },
     "execution_count": 114,
     "metadata": {},
     "output_type": "execute_result"
    }
   ],
   "source": [
    "negative_fd"
   ]
  },
  {
   "cell_type": "markdown",
   "metadata": {
    "id": "Oh8LX8oJfrLk"
   },
   "source": [
    "Some words are truely derogatory terms, but not all of them. There is no clear pattern as positive reviews. It is hard to tell why the VADER classies a review into negative according to them. However, we should point out that in our dataset the negative reviews are much less than the positive. The imbalance of positive/negative reviews may result in extra difficulty of classifiying."
   ]
  }
 ],
 "metadata": {
  "colab": {
   "provenance": []
  },
  "kernelspec": {
   "display_name": "Python 3 (ipykernel)",
   "language": "python",
   "name": "python3"
  },
  "language_info": {
   "codemirror_mode": {
    "name": "ipython",
    "version": 3
   },
   "file_extension": ".py",
   "mimetype": "text/x-python",
   "name": "python",
   "nbconvert_exporter": "python",
   "pygments_lexer": "ipython3",
   "version": "3.10.8"
  }
 },
 "nbformat": 4,
 "nbformat_minor": 1
}
