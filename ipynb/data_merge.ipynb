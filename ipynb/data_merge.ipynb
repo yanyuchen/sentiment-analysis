{
 "cells": [
  {
   "attachments": {},
   "cell_type": "markdown",
   "metadata": {},
   "source": [
    "# Data Wrangling"
   ]
  },
  {
   "cell_type": "code",
   "execution_count": null,
   "metadata": {},
   "outputs": [],
   "source": [
    "import pandas as pd\n",
    "import numpy as np"
   ]
  },
  {
   "attachments": {},
   "cell_type": "markdown",
   "metadata": {},
   "source": [
    "## 1. Datasets Loading"
   ]
  },
  {
   "cell_type": "code",
   "execution_count": null,
   "metadata": {},
   "outputs": [],
   "source": [
    "def load_data(filename, platform):\n",
    "    data = pd.read_csv(filename)\n",
    "    data['platform'] = [platform]*(data.shape[0])\n",
    "    return data\n",
    "\n",
    "# load in location information data\n",
    "tplaces = pd.read_csv('SF_places.csv')\n",
    "gplaces = pd.read_csv('new_google_places.csv')\n",
    "yplaces = pd.read_csv('yelp_business.csv')\n",
    "\n",
    "# load in reviews data\n",
    "treviews = load_data('tripadvisor_reviews.csv', platform='TripAdvisor')\n",
    "greviews = load_data('new_google_reviews.csv', platform='Google')\n",
    "yreviews = load_data('yelp_reviews.csv', platform='Yelp')"
   ]
  },
  {
   "attachments": {},
   "cell_type": "markdown",
   "metadata": {},
   "source": [
    "## 2. Examination"
   ]
  },
  {
   "attachments": {},
   "cell_type": "markdown",
   "metadata": {},
   "source": [
    "### 2.1 TripAdvisor & Google Data"
   ]
  },
  {
   "cell_type": "code",
   "execution_count": null,
   "metadata": {},
   "outputs": [],
   "source": [
    "print(treviews.info())\n",
    "print()\n",
    "print(greviews.info())"
   ]
  },
  {
   "attachments": {},
   "cell_type": "markdown",
   "metadata": {},
   "source": [
    "### 2.2 Yelp Data"
   ]
  },
  {
   "cell_type": "code",
   "execution_count": null,
   "metadata": {},
   "outputs": [],
   "source": [
    "yreviews.info()"
   ]
  },
  {
   "cell_type": "code",
   "execution_count": null,
   "metadata": {},
   "outputs": [],
   "source": [
    "yplaces.info()"
   ]
  },
  {
   "attachments": {},
   "cell_type": "markdown",
   "metadata": {},
   "source": [
    "#### 2.2.1 Merge business and reviews datasets"
   ]
  },
  {
   "cell_type": "code",
   "execution_count": null,
   "metadata": {},
   "outputs": [],
   "source": [
    "ymerge = pd.merge(yreviews, yplaces, left_on='business_id', right_on='id')\n",
    "ymerge.head(5)"
   ]
  },
  {
   "cell_type": "code",
   "execution_count": null,
   "metadata": {},
   "outputs": [],
   "source": [
    "y_keep_columns = ['platform','text','rating_x', 'time_created', 'name', 'coordinates']\n",
    "yreviews_new = ymerge.loc[:, y_keep_columns]\n",
    "yreviews_new = yreviews_new.rename(columns={'name': 'attraction', \n",
    "                            'text': 'review',\n",
    "                            'rating_x': 'rating',\n",
    "                            'time_created': 'date'\n",
    "                            })\n",
    "yreviews_new.head(5)"
   ]
  },
  {
   "attachments": {},
   "cell_type": "markdown",
   "metadata": {},
   "source": [
    "## 3. Mergeing"
   ]
  },
  {
   "cell_type": "code",
   "execution_count": null,
   "metadata": {},
   "outputs": [],
   "source": [
    "merge1 = pd.merge(treviews,greviews, how='outer')\n",
    "all_reviews = pd.merge(merge1,yreviews_new, how='outer')\n",
    "all_reviews.head(3)"
   ]
  },
  {
   "cell_type": "code",
   "execution_count": null,
   "metadata": {},
   "outputs": [],
   "source": [
    "all_reviews['time2'] = all_reviews['month'] + ' ' + all_reviews['year'].astype(str)\n",
    "all_reviews['time2'].fillna('Jan 1900', inplace=True)\n",
    "all_reviews.loc[pd.to_datetime(all_reviews['time2'], format='%b %Y', errors='coerce').isnull(), 'time2'] = 'Jan 1900'\n",
    "all_reviews['time2'] = pd.to_datetime(all_reviews['time2'], format='%b %Y').dt.strftime('%b, %Y')\n",
    "all_reviews['time_merged'] = all_reviews['time2'].combine_first(all_reviews['time'])\n",
    "\n",
    "all_reviews['time3'] = pd.to_datetime(all_reviews['date']).dt.strftime('%b, %Y')\n",
    "all_reviews['time_merged2'] = all_reviews['time_merged'].combine_first(all_reviews['time3'])"
   ]
  },
  {
   "cell_type": "code",
   "execution_count": null,
   "metadata": {},
   "outputs": [],
   "source": [
    "all_reviews = all_reviews.rename(columns={'time_merged2': 'datecolumn' })\n",
    "all_keep_columns = ['platform','attraction','review', 'rating','datecolumn', 'coordinates']\n",
    "all_reviews = all_reviews.loc[:, all_keep_columns]\n",
    "all_reviews['datecolumn'] = all_reviews['datecolumn'].replace('Jan, 1900', np.nan)\n",
    "all_reviews.head(5)"
   ]
  }
 ],
 "metadata": {
  "language_info": {
   "name": "python"
  },
  "orig_nbformat": 4
 },
 "nbformat": 4,
 "nbformat_minor": 2
}
